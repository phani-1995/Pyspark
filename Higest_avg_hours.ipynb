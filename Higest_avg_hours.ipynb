{
 "cells": [
  {
   "cell_type": "code",
   "execution_count": 28,
   "metadata": {},
   "outputs": [],
   "source": [
    "from pyspark.sql.functions import hour,minute,second,col,avg,when\n",
    "from pyspark.sql import SQLContext\n",
    "import pyspark.sql.functions as sql_functions\n",
    "import datetime\n",
    "sqlContext = SQLContext(sc)"
   ]
  },
  {
   "cell_type": "code",
   "execution_count": 2,
   "metadata": {},
   "outputs": [],
   "source": [
    "df = sqlContext.read.csv(\"hdfs://localhost:54310/data1/usr_log_data.csv\",header = True, inferSchema = True)"
   ]
  },
  {
   "cell_type": "code",
   "execution_count": 3,
   "metadata": {},
   "outputs": [],
   "source": [
    "df1 = df.withColumn('hours', hour(df['working_hours']))"
   ]
  },
  {
   "cell_type": "code",
   "execution_count": 5,
   "metadata": {},
   "outputs": [
    {
     "name": "stdout",
     "output_type": "stream",
     "text": [
      "+--------------------+-----+\n",
      "|           user_name|hours|\n",
      "+--------------------+-----+\n",
      "|  sahil24c@gmail.com|    5|\n",
      "|magadum.iranna@gm...|    8|\n",
      "+--------------------+-----+\n",
      "only showing top 2 rows\n",
      "\n"
     ]
    }
   ],
   "source": [
    "x = df1.select('user_name','hours')\n",
    "x.show(2)"
   ]
  },
  {
   "cell_type": "code",
   "execution_count": 7,
   "metadata": {},
   "outputs": [
    {
     "name": "stdout",
     "output_type": "stream",
     "text": [
      "+--------------------+-----+-----+\n",
      "|           user_name|hours|  h_s|\n",
      "+--------------------+-----+-----+\n",
      "|  sahil24c@gmail.com|    5|18000|\n",
      "|magadum.iranna@gm...|    8|28800|\n",
      "+--------------------+-----+-----+\n",
      "only showing top 2 rows\n",
      "\n"
     ]
    }
   ],
   "source": [
    "x = x.withColumn('h_s', x['hours'] * 3600)\n",
    "x.show(2)"
   ]
  },
  {
   "cell_type": "code",
   "execution_count": 8,
   "metadata": {},
   "outputs": [],
   "source": [
    "df2 = df.withColumn('min', minute(df['working_hours']))"
   ]
  },
  {
   "cell_type": "code",
   "execution_count": 9,
   "metadata": {},
   "outputs": [],
   "source": [
    "y = df2.select('user_name', 'min')"
   ]
  },
  {
   "cell_type": "code",
   "execution_count": 11,
   "metadata": {},
   "outputs": [
    {
     "name": "stdout",
     "output_type": "stream",
     "text": [
      "+--------------------+---+----+\n",
      "|           user_name|min| m_s|\n",
      "+--------------------+---+----+\n",
      "|  sahil24c@gmail.com| 50|3000|\n",
      "|magadum.iranna@gm...| 39|2340|\n",
      "+--------------------+---+----+\n",
      "only showing top 2 rows\n",
      "\n"
     ]
    }
   ],
   "source": [
    "y = y.withColumn('m_s', y['min'] * 60)\n",
    "y.show(2)"
   ]
  },
  {
   "cell_type": "code",
   "execution_count": 12,
   "metadata": {},
   "outputs": [],
   "source": [
    "df3 = df.withColumn('sec', second(df['working_hours']))"
   ]
  },
  {
   "cell_type": "code",
   "execution_count": 14,
   "metadata": {},
   "outputs": [
    {
     "name": "stdout",
     "output_type": "stream",
     "text": [
      "+--------------------+---+\n",
      "|           user_name|sec|\n",
      "+--------------------+---+\n",
      "|  sahil24c@gmail.com|  0|\n",
      "|magadum.iranna@gm...| 59|\n",
      "+--------------------+---+\n",
      "only showing top 2 rows\n",
      "\n"
     ]
    }
   ],
   "source": [
    "z = df3.select('user_name', 'sec')\n",
    "z.show(2)"
   ]
  },
  {
   "cell_type": "code",
   "execution_count": 15,
   "metadata": {},
   "outputs": [
    {
     "name": "stdout",
     "output_type": "stream",
     "text": [
      "+--------------------+-----+-----+---+----+\n",
      "|           user_name|hours|  h_s|min| m_s|\n",
      "+--------------------+-----+-----+---+----+\n",
      "|  sahil24c@gmail.com|    5|18000| 50|3000|\n",
      "|magadum.iranna@gm...|    8|28800| 39|2340|\n",
      "+--------------------+-----+-----+---+----+\n",
      "only showing top 2 rows\n",
      "\n"
     ]
    }
   ],
   "source": [
    "##Joining the dataframes\n",
    "df4 = x.join(y, on = ['user_name'], how = 'inner')\n",
    "df4.show(2)"
   ]
  },
  {
   "cell_type": "code",
   "execution_count": 17,
   "metadata": {},
   "outputs": [
    {
     "name": "stdout",
     "output_type": "stream",
     "text": [
      "+--------------------+-----+-----+---+----+---+\n",
      "|           user_name|hours|  h_s|min| m_s|sec|\n",
      "+--------------------+-----+-----+---+----+---+\n",
      "|  sahil24c@gmail.com|    5|18000| 50|3000|  0|\n",
      "|magadum.iranna@gm...|    8|28800| 39|2340| 59|\n",
      "+--------------------+-----+-----+---+----+---+\n",
      "only showing top 2 rows\n",
      "\n"
     ]
    }
   ],
   "source": [
    "df5 = df4.join(z, on = ['user_name'], how = 'inner') \n",
    "df5.show(2)"
   ]
  },
  {
   "cell_type": "code",
   "execution_count": 19,
   "metadata": {},
   "outputs": [
    {
     "name": "stdout",
     "output_type": "stream",
     "text": [
      "+--------------------+-----+----+---+\n",
      "|           user_name|  h_s| m_s|sec|\n",
      "+--------------------+-----+----+---+\n",
      "|  sahil24c@gmail.com|18000|3000|  0|\n",
      "|magadum.iranna@gm...|28800|2340| 59|\n",
      "+--------------------+-----+----+---+\n",
      "only showing top 2 rows\n",
      "\n"
     ]
    }
   ],
   "source": [
    "df6 = df5.drop('hours', 'min')\n",
    "df6.show(2)"
   ]
  },
  {
   "cell_type": "code",
   "execution_count": 21,
   "metadata": {},
   "outputs": [
    {
     "name": "stdout",
     "output_type": "stream",
     "text": [
      "+--------------------+-----+----+---+-----------------+\n",
      "|           user_name|  h_s| m_s|sec|    working_hours|\n",
      "+--------------------+-----+----+---+-----------------+\n",
      "|  sahil24c@gmail.com|18000|3000|  0|5.833333333333333|\n",
      "|magadum.iranna@gm...|28800|2340| 59| 8.66638888888889|\n",
      "+--------------------+-----+----+---+-----------------+\n",
      "only showing top 2 rows\n",
      "\n"
     ]
    }
   ],
   "source": [
    "df7 = df6.withColumn('working_hours', (df6['h_s'] + df6['m_s'] + df6['sec'])/3600)\n",
    "df7.show(2)"
   ]
  },
  {
   "cell_type": "code",
   "execution_count": 22,
   "metadata": {},
   "outputs": [
    {
     "name": "stdout",
     "output_type": "stream",
     "text": [
      "+------------------+\n",
      "|avg(working_hours)|\n",
      "+------------------+\n",
      "| 7.137449494949498|\n",
      "+------------------+\n",
      "\n"
     ]
    }
   ],
   "source": [
    "#calculating average hours\n",
    "average = df7.select(avg('working_hours'))\n",
    "average.show()"
   ]
  },
  {
   "cell_type": "code",
   "execution_count": 29,
   "metadata": {},
   "outputs": [
    {
     "data": {
      "text/plain": [
       "57"
      ]
     },
     "execution_count": 29,
     "metadata": {},
     "output_type": "execute_result"
    }
   ],
   "source": [
    "avg_count = df7.filter(sql_functions.col(\"working_hours\") > 7.137449494949498)\n",
    "avg_count.count()"
   ]
  },
  {
   "cell_type": "code",
   "execution_count": 30,
   "metadata": {},
   "outputs": [
    {
     "name": "stdout",
     "output_type": "stream",
     "text": [
      "+--------------------+\n",
      "|           user_name|\n",
      "+--------------------+\n",
      "|magadum.iranna@gm...|\n",
      "|  yathink3@gmail.com|\n",
      "|  shelkeva@gmail.com|\n",
      "|puruissimple@gmai...|\n",
      "|sangita.awaghad19...|\n",
      "|vaishusawant143@g...|\n",
      "|     you@example.com|\n",
      "|samadhanmahajan73...|\n",
      "|ashutoshrit64@gma...|\n",
      "|akshaybavalekar10...|\n",
      "|khairnarswapna99@...|\n",
      "|kukadeshilpaa7m95...|\n",
      "|sarikabarge111@gm...|\n",
      "|narsimharaj.kasu0...|\n",
      "|antonyalexcm@gmai...|\n",
      "|jitupatil937@gmai...|\n",
      "|akshaypatwari24@g...|\n",
      "|aheteshams007@gma...|\n",
      "|surajpj7852@gmail...|\n",
      "|kaleshwetaanil@gm...|\n",
      "+--------------------+\n",
      "only showing top 20 rows\n",
      "\n"
     ]
    }
   ],
   "source": [
    "df7.filter(df7['working_hours'] > 7.137449494949498).select('user_name').show()"
   ]
  },
  {
   "cell_type": "code",
   "execution_count": null,
   "metadata": {},
   "outputs": [],
   "source": []
  }
 ],
 "metadata": {
  "kernelspec": {
   "display_name": "Python 3",
   "language": "python",
   "name": "python3"
  },
  "language_info": {
   "codemirror_mode": {
    "name": "ipython",
    "version": 3
   },
   "file_extension": ".py",
   "mimetype": "text/x-python",
   "name": "python",
   "nbconvert_exporter": "python",
   "pygments_lexer": "ipython3",
   "version": "3.6.9"
  }
 },
 "nbformat": 4,
 "nbformat_minor": 4
}
